{
 "cells": [
  {
   "cell_type": "code",
   "execution_count": 1,
   "id": "e6229c17-f8b5-4363-b629-9e48bf7557b3",
   "metadata": {},
   "outputs": [],
   "source": [
    "import os\n",
    "import json\n",
    "import shutil\n",
    "from tqdm import tqdm"
   ]
  },
  {
   "cell_type": "code",
   "execution_count": 2,
   "id": "c2eda54f-e5f5-4b73-b157-86e68fdf29a3",
   "metadata": {},
   "outputs": [
    {
     "data": {
      "text/plain": [
       "16598"
      ]
     },
     "execution_count": 2,
     "metadata": {},
     "output_type": "execute_result"
    }
   ],
   "source": [
    "videos = os.listdir('videos/')\n",
    "len(videos)"
   ]
  },
  {
   "cell_type": "code",
   "execution_count": 3,
   "id": "5becfcb7-36cd-49ba-bbb8-e26e6e68af53",
   "metadata": {},
   "outputs": [
    {
     "data": {
      "text/plain": [
       "['35520.mp4', '57883.mp4', '54597.mp4', '12210.mp4', '11382.mp4']"
      ]
     },
     "execution_count": 3,
     "metadata": {},
     "output_type": "execute_result"
    }
   ],
   "source": [
    "videos[:5]"
   ]
  },
  {
   "cell_type": "code",
   "execution_count": 4,
   "id": "cd98d1b5-9a47-422c-a2b0-8b3f6afe489c",
   "metadata": {},
   "outputs": [],
   "source": [
    "with open('WLASL_v0.3.json', 'r') as file:\n",
    "    dataset = json.load(file)"
   ]
  },
  {
   "cell_type": "code",
   "execution_count": 5,
   "id": "b675402b-f1e5-4ab1-bb43-4b2fa58ecc16",
   "metadata": {},
   "outputs": [
    {
     "data": {
      "text/plain": [
       "['scripts',\n",
       " 'download_1664372497.log',\n",
       " 'find_missing.py',\n",
       " 'preprocess.py',\n",
       " 'data_reader.py',\n",
       " 'video_downloader.py',\n",
       " 'C-UDA-1.0.pdf',\n",
       " 'raw_videos',\n",
       " 'WLASL video EDA.ipynb',\n",
       " '.ipynb_checkpoints',\n",
       " 'raw_videos_mp4',\n",
       " 'videos',\n",
       " 'download_1664454128.log',\n",
       " 'WLASL_v0.3.json',\n",
       " 'videos_in_classes',\n",
       " 'missing.txt']"
      ]
     },
     "execution_count": 5,
     "metadata": {},
     "output_type": "execute_result"
    }
   ],
   "source": [
    "os.listdir('./')"
   ]
  },
  {
   "cell_type": "code",
   "execution_count": 6,
   "id": "96864ca0-766d-4323-846d-d461e3e4e85e",
   "metadata": {},
   "outputs": [
    {
     "name": "stderr",
     "output_type": "stream",
     "text": [
      "100%|█████████████████████████████████████| 2000/2000 [00:00<00:00, 2693.30it/s]\n"
     ]
    }
   ],
   "source": [
    "#Loop through the instances.\n",
    "total_instances = []\n",
    "for instance in tqdm(dataset):\n",
    "    gloss = instance['gloss']\n",
    "    total_instances.append(instance['gloss'])\n",
    "    \n",
    "    #Create directories for each gloss class.\n",
    "    if not os.path.exists(f'videos_in_classes/{gloss}'):\n",
    "        os.mkdir(f'videos_in_classes/{gloss}')"
   ]
  },
  {
   "cell_type": "code",
   "execution_count": 7,
   "id": "074cb222-f8e9-4255-be66-b1d16005c08d",
   "metadata": {},
   "outputs": [
    {
     "name": "stderr",
     "output_type": "stream",
     "text": [
      "100%|███████████████████████████████████████| 2000/2000 [09:19<00:00,  3.58it/s]\n"
     ]
    }
   ],
   "source": [
    "#Loop through the videos dataset and copy it to its corresponding class.\n",
    "for instance in tqdm(dataset):\n",
    "    gloss = instance['gloss']\n",
    "    instances = instance['instances']\n",
    "    \n",
    "    for inst in instances:\n",
    "        try:\n",
    "            \n",
    "            #Get the video ID.\n",
    "            video_id = inst['video_id'] + '.mp4'\n",
    "\n",
    "            #Get the source directory.\n",
    "            source_dir = os.path.join('videos', video_id)\n",
    "\n",
    "            #Get the destination directory.\n",
    "            destination_dir = os.path.join('videos_in_classes', gloss)\n",
    "\n",
    "            #Copy the file to the destination directory.\n",
    "            shutil.copy(src=source_dir, dst=destination_dir)\n",
    "            \n",
    "        except FileNotFoundError  as e:\n",
    "            continue"
   ]
  },
  {
   "cell_type": "code",
   "execution_count": null,
   "id": "0d168b3f-1b24-44eb-ba06-ed91b5a8f8b8",
   "metadata": {},
   "outputs": [],
   "source": []
  }
 ],
 "metadata": {
  "kernelspec": {
   "display_name": "Python 3 (ipykernel)",
   "language": "python",
   "name": "python3"
  },
  "language_info": {
   "codemirror_mode": {
    "name": "ipython",
    "version": 3
   },
   "file_extension": ".py",
   "mimetype": "text/x-python",
   "name": "python",
   "nbconvert_exporter": "python",
   "pygments_lexer": "ipython3",
   "version": "3.9.12"
  }
 },
 "nbformat": 4,
 "nbformat_minor": 5
}
