{
 "cells": [
  {
   "cell_type": "markdown",
   "id": "f8a29b24-3ae8-4ced-9f8c-92df0b3cf7ed",
   "metadata": {},
   "source": [
    "## Padding video streams with `tf.data`."
   ]
  },
  {
   "cell_type": "code",
   "execution_count": 1,
   "id": "3df7f4fe-698c-48b1-abb3-34f823d81d05",
   "metadata": {},
   "outputs": [
    {
     "name": "stderr",
     "output_type": "stream",
     "text": [
      "2022-10-30 11:44:02.860147: I tensorflow/core/platform/cpu_feature_guard.cc:193] This TensorFlow binary is optimized with oneAPI Deep Neural Network Library (oneDNN) to use the following CPU instructions in performance-critical operations:  AVX2 FMA\n",
      "To enable them in other operations, rebuild TensorFlow with the appropriate compiler flags.\n",
      "2022-10-30 11:44:03.374268: W tensorflow/stream_executor/platform/default/dso_loader.cc:64] Could not load dynamic library 'libcudart.so.11.0'; dlerror: libcudart.so.11.0: cannot open shared object file: No such file or directory\n",
      "2022-10-30 11:44:03.374322: I tensorflow/stream_executor/cuda/cudart_stub.cc:29] Ignore above cudart dlerror if you do not have a GPU set up on your machine.\n",
      "2022-10-30 11:44:03.471026: E tensorflow/stream_executor/cuda/cuda_blas.cc:2981] Unable to register cuBLAS factory: Attempting to register factory for plugin cuBLAS when one has already been registered\n",
      "2022-10-30 11:44:05.845563: W tensorflow/stream_executor/platform/default/dso_loader.cc:64] Could not load dynamic library 'libnvinfer.so.7'; dlerror: libnvinfer.so.7: cannot open shared object file: No such file or directory\n",
      "2022-10-30 11:44:05.845786: W tensorflow/stream_executor/platform/default/dso_loader.cc:64] Could not load dynamic library 'libnvinfer_plugin.so.7'; dlerror: libnvinfer_plugin.so.7: cannot open shared object file: No such file or directory\n",
      "2022-10-30 11:44:05.845812: W tensorflow/compiler/tf2tensorrt/utils/py_utils.cc:38] TF-TRT Warning: Cannot dlopen some TensorRT libraries. If you would like to use Nvidia GPU with TensorRT, please make sure the missing libraries mentioned above are installed properly.\n"
     ]
    }
   ],
   "source": [
    "import os\n",
    "import cv2\n",
    "import imageio\n",
    "import numpy as np\n",
    "from tqdm.notebook import tqdm\n",
    "\n",
    "import tensorflow as tf"
   ]
  },
  {
   "cell_type": "code",
   "execution_count": 2,
   "id": "91ad70e2-b288-472a-8fef-88dd0dddd57e",
   "metadata": {},
   "outputs": [],
   "source": [
    "video_path = '../inputs/HorseRace/'"
   ]
  },
  {
   "cell_type": "markdown",
   "id": "346eabfa-8824-45de-b5f1-29e936e4dc16",
   "metadata": {},
   "source": [
    "## Create frames from each video file."
   ]
  },
  {
   "cell_type": "code",
   "execution_count": 3,
   "id": "33c3f7c1-693e-4725-87c8-28aa55b244aa",
   "metadata": {
    "tags": []
   },
   "outputs": [],
   "source": [
    "def format_frames(frame, output_size):\n",
    "    frame = tf.image.convert_image_dtype(frame, tf.float32)\n",
    "    frame = tf.image.resize_with_pad(frame, *output_size)\n",
    "    return frame"
   ]
  },
  {
   "cell_type": "code",
   "execution_count": 36,
   "id": "0bafeae0-92d8-49b3-834a-154a09e12ada",
   "metadata": {},
   "outputs": [],
   "source": [
    "def frames_from_video_file(video_path, n_frames = 10, output_size = (224,224), frame_step = 15):\n",
    "    # Read each video frame by frame\n",
    "    result = []\n",
    "    src = cv2.VideoCapture(str(video_path))  \n",
    "\n",
    "    video_length = src.get(cv2.CAP_PROP_FRAME_COUNT)\n",
    "\n",
    "    need_length = 1 + (n_frames - 1) * frame_step\n",
    "\n",
    "    if need_length > video_length:\n",
    "        start = 0\n",
    "    else:\n",
    "        max_start = video_length - need_length\n",
    "        start = np.random.randint(0, max_start + 1)\n",
    "\n",
    "    src.set(cv2.CAP_PROP_POS_FRAMES, start)\n",
    "    ret, frame = src.read()\n",
    "    result.append(format_frames(frame, output_size))\n",
    "\n",
    "    for _ in range(n_frames - 1):\n",
    "        if ret:\n",
    "            frame = tf.image.convert_image_dtype(frame, tf.float32)\n",
    "            frame = tf.image.resize_with_pad(frame, *output_size)\n",
    "            result.append(frame)\n",
    "        else:\n",
    "            result.append(np.zeros_like(result[0]))\n",
    "    src.release()\n",
    "    result = np.array(result)[..., [2, 1, 0]]\n",
    "\n",
    "    return result"
   ]
  },
  {
   "cell_type": "code",
   "execution_count": 37,
   "id": "5e108238-7ee6-4f8d-a931-bdbebe47603a",
   "metadata": {},
   "outputs": [
    {
     "data": {
      "text/plain": [
       "(10, 224, 224, 3)"
      ]
     },
     "execution_count": 37,
     "metadata": {},
     "output_type": "execute_result"
    }
   ],
   "source": [
    "video_path = '../inputs/videos/vtest.avi'\n",
    "\n",
    "sample_video = frames_from_video_file(video_path)\n",
    "sample_video.shape"
   ]
  },
  {
   "cell_type": "code",
   "execution_count": 47,
   "id": "5a3b68a7-1100-47db-9ab1-17a65e1fc2e4",
   "metadata": {
    "tags": []
   },
   "outputs": [
    {
     "name": "stdout",
     "output_type": "stream",
     "text": [
      "../inputs/HorseRace/v_HorseRace_g06_c05.avi\n",
      "../inputs/HorseRace/v_HorseRace_g04_c03.avi\n"
     ]
    }
   ],
   "source": [
    "data_tf = tf.data.Dataset.list_files('../inputs/HorseRace/*.avi')\n",
    "\n",
    "for element in data_tf.take(3):\n",
    "    print(element.numpy().decode('utf-8'))"
   ]
  },
  {
   "cell_type": "code",
   "execution_count": 39,
   "id": "1abab087-ff4e-4927-bfea-0eb15901f6b1",
   "metadata": {},
   "outputs": [
    {
     "data": {
      "text/plain": [
       "(10, 224, 224, 3)"
      ]
     },
     "execution_count": 39,
     "metadata": {},
     "output_type": "execute_result"
    }
   ],
   "source": [
    "sample_avi = '../inputs/HorseRace/v_HorseRace_g06_c05.avi'\n",
    "\n",
    "sample_avi = frames_from_video_file(sample_avi)\n",
    "sample_avi.shape"
   ]
  },
  {
   "cell_type": "code",
   "execution_count": 41,
   "id": "2d32e925-4ad8-479d-b351-6656b1dc08ff",
   "metadata": {},
   "outputs": [
    {
     "data": {
      "text/plain": [
       "TensorSpec(shape=(10, 224, 224, 3), dtype=tf.float32, name=None)"
      ]
     },
     "execution_count": 41,
     "metadata": {},
     "output_type": "execute_result"
    }
   ],
   "source": [
    "data_tf = tf.data.Dataset.from_tensors(sample_avi)\n",
    "data_tf.element_spec"
   ]
  },
  {
   "cell_type": "code",
   "execution_count": null,
   "id": "c1d11a88-e8d1-4269-a038-423080aeda3e",
   "metadata": {},
   "outputs": [],
   "source": []
  }
 ],
 "metadata": {
  "kernelspec": {
   "display_name": "Python 3 (ipykernel)",
   "language": "python",
   "name": "python3"
  },
  "language_info": {
   "codemirror_mode": {
    "name": "ipython",
    "version": 3
   },
   "file_extension": ".py",
   "mimetype": "text/x-python",
   "name": "python",
   "nbconvert_exporter": "python",
   "pygments_lexer": "ipython3",
   "version": "3.9.12"
  }
 },
 "nbformat": 4,
 "nbformat_minor": 5
}
