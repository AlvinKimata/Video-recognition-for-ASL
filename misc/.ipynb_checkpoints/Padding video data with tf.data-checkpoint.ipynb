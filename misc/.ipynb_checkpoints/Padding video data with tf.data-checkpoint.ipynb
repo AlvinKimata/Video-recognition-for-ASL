{
 "cells": [
  {
   "cell_type": "markdown",
   "id": "f8a29b24-3ae8-4ced-9f8c-92df0b3cf7ed",
   "metadata": {},
   "source": [
    "## Padding video streams with `tf.data`."
   ]
  },
  {
   "cell_type": "code",
   "execution_count": 1,
   "id": "3df7f4fe-698c-48b1-abb3-34f823d81d05",
   "metadata": {},
   "outputs": [
    {
     "name": "stderr",
     "output_type": "stream",
     "text": [
      "2022-10-30 15:43:54.194985: I tensorflow/core/platform/cpu_feature_guard.cc:193] This TensorFlow binary is optimized with oneAPI Deep Neural Network Library (oneDNN) to use the following CPU instructions in performance-critical operations:  AVX2 FMA\n",
      "To enable them in other operations, rebuild TensorFlow with the appropriate compiler flags.\n",
      "2022-10-30 15:43:54.671158: W tensorflow/stream_executor/platform/default/dso_loader.cc:64] Could not load dynamic library 'libcudart.so.11.0'; dlerror: libcudart.so.11.0: cannot open shared object file: No such file or directory\n",
      "2022-10-30 15:43:54.671208: I tensorflow/stream_executor/cuda/cudart_stub.cc:29] Ignore above cudart dlerror if you do not have a GPU set up on your machine.\n",
      "2022-10-30 15:43:54.978345: E tensorflow/stream_executor/cuda/cuda_blas.cc:2981] Unable to register cuBLAS factory: Attempting to register factory for plugin cuBLAS when one has already been registered\n",
      "2022-10-30 15:44:01.666801: W tensorflow/stream_executor/platform/default/dso_loader.cc:64] Could not load dynamic library 'libnvinfer.so.7'; dlerror: libnvinfer.so.7: cannot open shared object file: No such file or directory\n",
      "2022-10-30 15:44:01.667133: W tensorflow/stream_executor/platform/default/dso_loader.cc:64] Could not load dynamic library 'libnvinfer_plugin.so.7'; dlerror: libnvinfer_plugin.so.7: cannot open shared object file: No such file or directory\n",
      "2022-10-30 15:44:01.667159: W tensorflow/compiler/tf2tensorrt/utils/py_utils.cc:38] TF-TRT Warning: Cannot dlopen some TensorRT libraries. If you would like to use Nvidia GPU with TensorRT, please make sure the missing libraries mentioned above are installed properly.\n"
     ]
    }
   ],
   "source": [
    "import os\n",
    "import cv2\n",
    "import numpy as np\n",
    "import itertools\n",
    "from tqdm.notebook import tqdm\n",
    "\n",
    "import tensorflow as tf"
   ]
  },
  {
   "cell_type": "code",
   "execution_count": 2,
   "id": "91ad70e2-b288-472a-8fef-88dd0dddd57e",
   "metadata": {},
   "outputs": [],
   "source": [
    "video_path = '../inputs/HorseRace/'"
   ]
  },
  {
   "cell_type": "code",
   "execution_count": 3,
   "id": "8da51590-060a-47b5-9d85-851f07df26ab",
   "metadata": {},
   "outputs": [],
   "source": [
    "#Function for data preparation.\n",
    "def feature_extraction(video_path):\n",
    "    '''Function extracts video frames from a video input and returns a list \n",
    "    with images in numpy array format.'''\n",
    "    \n",
    "    width = 800\n",
    "    height = 600\n",
    "    \n",
    "    frames_list = []\n",
    "    \n",
    "    #Read the video.\n",
    "    video_reader = cv2.VideoCapture(video_path)\n",
    "    \n",
    "    #Obtain the fram count.\n",
    "    frame_count = int(video_reader.get(cv2.CAP_PROP_FRAME_COUNT))\n",
    "    \n",
    "    for counter in range(frame_count):\n",
    "        ret, frame = video_reader.read()\n",
    "\n",
    "        if not ret:\n",
    "            print('No video frames found.')\n",
    "            break\n",
    "\n",
    "        #Resize the image.\n",
    "        frame = cv2.resize(frame, (width, height))\n",
    "\n",
    "        #Append video frames to the list.\n",
    "        frames_list.append(frame)\n",
    "    \n",
    "    video_reader.release()\n",
    "    return frames_list\n",
    "        "
   ]
  },
  {
   "cell_type": "raw",
   "id": "09d8a853-2167-4a42-a480-8a910823f4c9",
   "metadata": {
    "tags": []
   },
   "source": [
    "def load_video(video_dir):\n",
    "    '''Function loads videos from a directory and stores them in a list.'''\n",
    "    video_frames = []\n",
    "    labels = []\n",
    "    for file in tqdm(os.listdir(video_dir)):\n",
    "        full_path = os.path.join(video_dir, file)\n",
    "        \n",
    "        #Extract frames from the video.\n",
    "        frames_list = feature_extraction(full_path)\n",
    "        frames_list = np.array(frames_list, dtype = 'float16')\n",
    "        video_frames.append(frames_list)\n",
    "        \n",
    "        #Append labels.\n",
    "        labels.append(full_path)\n",
    "        \n",
    "    return np.array(frames_list, dtype = 'float16'), labels"
   ]
  },
  {
   "cell_type": "code",
   "execution_count": 4,
   "id": "cb942160-360f-4047-9cb4-93a978ff4281",
   "metadata": {},
   "outputs": [],
   "source": [
    "def load_video(video_dir):\n",
    "    '''Function loads videos from a directory and stores them in a list.'''\n",
    "    total_labels = []\n",
    "    total_video_frames = []\n",
    "    for file in tqdm(os.listdir(video_dir)):\n",
    "        video_frame = []\n",
    "        full_path = os.path.join(video_dir, file)\n",
    "        \n",
    "        # Extract frames from the video.\n",
    "        frames_list = feature_extraction(full_path)\n",
    "        frames_list = np.array(frames_list, dtype = 'float16')\n",
    "        \n",
    "        #Append labels.\n",
    "        total_labels.append(full_path)\n",
    "        total_video_frames.append(frames_list)\n",
    "        # total_video_frames = list(itertools.chain.from_iterable(frames_list))\n",
    "    \n",
    "    return total_video_frames, total_labels"
   ]
  },
  {
   "cell_type": "code",
   "execution_count": 5,
   "id": "9ef2b3c5-2b6e-41b0-adba-72ce360987ee",
   "metadata": {},
   "outputs": [
    {
     "data": {
      "application/vnd.jupyter.widget-view+json": {
       "model_id": "e1664b535daa46f787b92e46e1076d87",
       "version_major": 2,
       "version_minor": 0
      },
      "text/plain": [
       "  0%|          | 0/2 [00:00<?, ?it/s]"
      ]
     },
     "metadata": {},
     "output_type": "display_data"
    }
   ],
   "source": [
    "data, labels = load_video('../inputs/HorseRace/')"
   ]
  },
  {
   "cell_type": "code",
   "execution_count": 6,
   "id": "2f8d7b38-6826-410a-bbfb-01d73bb13ef3",
   "metadata": {},
   "outputs": [
    {
     "data": {
      "text/plain": [
       "(2, 206, 600, 800, 3)"
      ]
     },
     "execution_count": 6,
     "metadata": {},
     "output_type": "execute_result"
    }
   ],
   "source": [
    "padded_data = tf.keras.preprocessing.sequence.pad_sequences(data)\n",
    "\n",
    "padded_data.shape"
   ]
  },
  {
   "cell_type": "code",
   "execution_count": 9,
   "id": "c7ffc3b7-c725-409d-8265-a1b4518e7a07",
   "metadata": {},
   "outputs": [
    {
     "data": {
      "text/plain": [
       "((206, 600, 800, 3), (206, 600, 800, 3))"
      ]
     },
     "execution_count": 9,
     "metadata": {},
     "output_type": "execute_result"
    }
   ],
   "source": [
    "padded_data[0].shape, padded_data[1].shape"
   ]
  },
  {
   "cell_type": "code",
   "execution_count": 10,
   "id": "39b3d53e-9591-4dcb-804b-64472f0c05d9",
   "metadata": {},
   "outputs": [],
   "source": [
    "def get_number_of_video_frames(video):\n",
    "    cap = cv2.VideoCapture(video)\n",
    "    frame_count = int(cap.get(cv2.CAP_PROP_FRAME_COUNT))\n",
    "    return frame_count"
   ]
  },
  {
   "cell_type": "code",
   "execution_count": null,
   "id": "0fdb8efb-9972-4f79-994d-ddb3b9c1ac21",
   "metadata": {},
   "outputs": [
    {
     "data": {
      "text/plain": [
       "206"
      ]
     },
     "execution_count": 11,
     "metadata": {},
     "output_type": "execute_result"
    }
   ],
   "source": [
    "get_number_of_video_frames('../inputs/HorseRace/v_HorseRace_g06_c05.avi')"
   ]
  },
  {
   "cell_type": "code",
   "execution_count": 13,
   "id": "074c6aa1-dfc8-4a1a-9ad8-a09925a7649e",
   "metadata": {},
   "outputs": [
    {
     "data": {
      "text/plain": [
       "78"
      ]
     },
     "execution_count": 13,
     "metadata": {},
     "output_type": "execute_result"
    }
   ],
   "source": [
    "get_number_of_video_frames('../inputs/HorseRace/v_HorseRace_g04_c03.avi')"
   ]
  },
  {
   "cell_type": "code",
   "execution_count": null,
   "id": "eb4f7eb3-2859-4a4e-a22e-6394656276a3",
   "metadata": {},
   "outputs": [],
   "source": [
    "tf_data = tf.data.Dataset.from_tensors(padded_data)\n",
    "tf_data.element_spec"
   ]
  },
  {
   "cell_type": "code",
   "execution_count": null,
   "id": "49b76ad9-9919-400b-9c0b-25ee981702fb",
   "metadata": {},
   "outputs": [],
   "source": []
  }
 ],
 "metadata": {
  "kernelspec": {
   "display_name": "Python 3 (ipykernel)",
   "language": "python",
   "name": "python3"
  },
  "language_info": {
   "codemirror_mode": {
    "name": "ipython",
    "version": 3
   },
   "file_extension": ".py",
   "mimetype": "text/x-python",
   "name": "python",
   "nbconvert_exporter": "python",
   "pygments_lexer": "ipython3",
   "version": "3.9.12"
  }
 },
 "nbformat": 4,
 "nbformat_minor": 5
}
