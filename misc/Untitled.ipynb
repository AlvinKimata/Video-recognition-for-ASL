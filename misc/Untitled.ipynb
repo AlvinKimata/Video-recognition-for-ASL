{
 "cells": [
  {
   "cell_type": "code",
   "execution_count": 1,
   "id": "c1e44310-6bce-475a-a52a-d5d11428eaa8",
   "metadata": {},
   "outputs": [
    {
     "name": "stderr",
     "output_type": "stream",
     "text": [
      "2022-10-29 14:05:16.666984: I tensorflow/core/platform/cpu_feature_guard.cc:193] This TensorFlow binary is optimized with oneAPI Deep Neural Network Library (oneDNN) to use the following CPU instructions in performance-critical operations:  AVX2 FMA\n",
      "To enable them in other operations, rebuild TensorFlow with the appropriate compiler flags.\n",
      "2022-10-29 14:05:17.164866: W tensorflow/stream_executor/platform/default/dso_loader.cc:64] Could not load dynamic library 'libcudart.so.11.0'; dlerror: libcudart.so.11.0: cannot open shared object file: No such file or directory\n",
      "2022-10-29 14:05:17.164948: I tensorflow/stream_executor/cuda/cudart_stub.cc:29] Ignore above cudart dlerror if you do not have a GPU set up on your machine.\n",
      "2022-10-29 14:05:17.304732: E tensorflow/stream_executor/cuda/cuda_blas.cc:2981] Unable to register cuBLAS factory: Attempting to register factory for plugin cuBLAS when one has already been registered\n",
      "2022-10-29 14:05:21.530295: W tensorflow/stream_executor/platform/default/dso_loader.cc:64] Could not load dynamic library 'libnvinfer.so.7'; dlerror: libnvinfer.so.7: cannot open shared object file: No such file or directory\n",
      "2022-10-29 14:05:21.530548: W tensorflow/stream_executor/platform/default/dso_loader.cc:64] Could not load dynamic library 'libnvinfer_plugin.so.7'; dlerror: libnvinfer_plugin.so.7: cannot open shared object file: No such file or directory\n",
      "2022-10-29 14:05:21.530578: W tensorflow/compiler/tf2tensorrt/utils/py_utils.cc:38] TF-TRT Warning: Cannot dlopen some TensorRT libraries. If you would like to use Nvidia GPU with TensorRT, please make sure the missing libraries mentioned above are installed properly.\n"
     ]
    }
   ],
   "source": [
    "import tensorflow as tf"
   ]
  },
  {
   "cell_type": "code",
   "execution_count": null,
   "id": "81c15222-e69b-4765-823d-358e12bbc9dd",
   "metadata": {},
   "outputs": [],
   "source": [
    "'../inputs/images/"
   ]
  },
  {
   "cell_type": "code",
   "execution_count": 7,
   "id": "c52bc640-7acc-4d81-8861-4944703f969d",
   "metadata": {},
   "outputs": [],
   "source": [
    "image_dir = '../inputs/images/*.jpg'"
   ]
  },
  {
   "cell_type": "code",
   "execution_count": 8,
   "id": "152351c0-8b88-4736-bfe8-6fec154189ec",
   "metadata": {},
   "outputs": [],
   "source": [
    "def load_image(image_path):\n",
    "    image = tf.io.read_file(image_path)\n",
    "    image = tf.image.decode_jpeg(image, channels = 3)\n",
    "    image = tf.reshape(image, (256, 256, 3))\n",
    "    image = tf.cast(image, tf.float16)\n",
    "    return image"
   ]
  },
  {
   "cell_type": "code",
   "execution_count": 11,
   "id": "5263cc75-da8e-4003-a2ac-305f2acdff35",
   "metadata": {},
   "outputs": [
    {
     "name": "stdout",
     "output_type": "stream",
     "text": [
      "../inputs/images/208.jpg\n",
      "../inputs/images/276.jpg\n",
      "../inputs/images/146.jpg\n",
      "../inputs/images/52.jpg\n",
      "../inputs/images/298.jpg\n"
     ]
    },
    {
     "data": {
      "text/plain": [
       "TensorSpec(shape=(256, 256, 3), dtype=tf.float16, name=None)"
      ]
     },
     "execution_count": 11,
     "metadata": {},
     "output_type": "execute_result"
    }
   ],
   "source": [
    "dataset = tf.data.Dataset.list_files(image_dir)\n",
    "\n",
    "for element in dataset.take(5):\n",
    "    print(element.numpy().decode('utf-8'))\n",
    "          \n",
    "        \n",
    "dataset = dataset.map(load_image, num_parallel_calls = tf.data.AUTOTUNE)\n",
    "\n",
    "dataset.element_spec"
   ]
  },
  {
   "cell_type": "code",
   "execution_count": null,
   "id": "835eb493-09e0-47ac-8894-0a53d5dde316",
   "metadata": {},
   "outputs": [],
   "source": []
  }
 ],
 "metadata": {
  "kernelspec": {
   "display_name": "Python 3 (ipykernel)",
   "language": "python",
   "name": "python3"
  },
  "language_info": {
   "codemirror_mode": {
    "name": "ipython",
    "version": 3
   },
   "file_extension": ".py",
   "mimetype": "text/x-python",
   "name": "python",
   "nbconvert_exporter": "python",
   "pygments_lexer": "ipython3",
   "version": "3.9.12"
  }
 },
 "nbformat": 4,
 "nbformat_minor": 5
}
