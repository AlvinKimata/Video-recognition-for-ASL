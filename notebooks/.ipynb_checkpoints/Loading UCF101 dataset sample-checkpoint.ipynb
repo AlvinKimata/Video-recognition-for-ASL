{
 "cells": [
  {
   "cell_type": "markdown",
   "id": "91e30d63-65d8-48c9-890b-03379321ce93",
   "metadata": {},
   "source": [
    "## Loading the UCF101 dataset.\n",
    "\n",
    "### This notebook demonstrates how to load a portion of the `UCF101` dataset."
   ]
  },
  {
   "cell_type": "code",
   "execution_count": 1,
   "id": "4a76a2f8-b537-4127-9320-75d2308c6f76",
   "metadata": {},
   "outputs": [],
   "source": [
    "import os\n",
    "import shutil\n",
    "import pandas as pd"
   ]
  },
  {
   "cell_type": "code",
   "execution_count": 24,
   "id": "9dfca451-60c4-4e4e-9866-8409bf47e61a",
   "metadata": {},
   "outputs": [
    {
     "name": "stdout",
     "output_type": "stream",
     "text": [
      "found one sample of HorseRacev_HorseRace_g07_c02.avi\n",
      "found one sample of HorseRacev_HorseRace_g11_c04.avi\n",
      "found one sample of HorseRacev_HorseRace_g10_c03.avi\n",
      "found one sample of HorseRacev_HorseRace_g22_c02.avi\n",
      "found one sample of HorseRacev_HorseRace_g18_c06.avi\n",
      "found one sample of HorseRacev_HorseRace_g24_c02.avi\n",
      "found one sample of HorseRacev_HorseRace_g17_c02.avi\n",
      "found one sample of HorseRacev_HorseRace_g04_c03.avi\n",
      "found one sample of HorseRacev_HorseRace_g24_c04.avi\n",
      "found one sample of HorseRacev_HorseRace_g06_c05.avi\n",
      "found one sample of HorseRacev_HorseRace_g03_c02.avi\n",
      "found one sample of HorseRacev_HorseRace_g09_c03.avi\n",
      "found one sample of HorseRacev_HorseRace_g16_c03.avi\n",
      "found one sample of HorseRacev_HorseRace_g14_c03.avi\n",
      "found one sample of HorseRacev_HorseRace_g13_c05.avi\n",
      "found one sample of HorseRacev_HorseRace_g02_c01.avi\n",
      "found one sample of HorseRacev_HorseRace_g24_c07.avi\n",
      "found one sample of HorseRacev_HorseRace_g12_c04.avi\n",
      "found one sample of HorseRacev_HorseRace_g21_c05.avi\n",
      "found one sample of HorseRacev_HorseRace_g13_c01.avi\n",
      "found one sample of HorseRacev_HorseRace_g07_c05.avi\n",
      "found one sample of HorseRacev_HorseRace_g20_c01.avi\n",
      "found one sample of HorseRacev_HorseRace_g15_c02.avi\n",
      "found one sample of HorseRacev_HorseRace_g17_c05.avi\n",
      "found one sample of HorseRacev_HorseRace_g20_c05.avi\n",
      "found one sample of HorseRacev_HorseRace_g18_c01.avi\n",
      "found one sample of HorseRacev_HorseRace_g22_c04.avi\n",
      "found one sample of HorseRacev_HorseRace_g23_c05.avi\n",
      "found one sample of HorseRacev_HorseRace_g20_c02.avi\n",
      "found one sample of HorseRacev_HorseRace_g19_c03.avi\n",
      "found one sample of HorseRacev_HorseRace_g19_c06.avi\n",
      "found one sample of HorseRacev_HorseRace_g10_c01.avi\n",
      "found one sample of HorseRacev_HorseRace_g08_c05.avi\n",
      "found one sample of HorseRacev_HorseRace_g06_c01.avi\n",
      "found one sample of HorseRacev_HorseRace_g25_c03.avi\n",
      "found one sample of HorseRacev_HorseRace_g24_c01.avi\n",
      "found one sample of HorseRacev_HorseRace_g22_c01.avi\n",
      "found one sample of HorseRacev_HorseRace_g07_c06.avi\n",
      "found one sample of HorseRacev_HorseRace_g08_c01.avi\n",
      "found one sample of HorseRacev_HorseRace_g20_c04.avi\n",
      "found one sample of HorseRacev_HorseRace_g19_c05.avi\n",
      "found one sample of HorseRacev_HorseRace_g14_c01.avi\n",
      "found one sample of HorseRacev_HorseRace_g11_c05.avi\n",
      "found one sample of HorseRacev_HorseRace_g18_c05.avi\n",
      "found one sample of HorseRacev_HorseRace_g08_c04.avi\n",
      "found one sample of HorseRacev_HorseRace_g05_c03.avi\n",
      "found one sample of HorseRacev_HorseRace_g13_c02.avi\n",
      "found one sample of HorseRacev_HorseRace_g17_c03.avi\n",
      "found one sample of HorseRacev_HorseRace_g10_c02.avi\n",
      "found one sample of HorseRacev_HorseRace_g02_c02.avi\n",
      "found one sample of HorseRacev_HorseRace_g08_c02.avi\n",
      "found one sample of HorseRacev_HorseRace_g18_c03.avi\n",
      "found one sample of HorseRacev_HorseRace_g11_c07.avi\n",
      "found one sample of HorseRacev_HorseRace_g02_c04.avi\n"
     ]
    },
    {
     "ename": "IndexError",
     "evalue": "list index out of range",
     "output_type": "error",
     "traceback": [
      "\u001b[0;31m---------------------------------------------------------------------------\u001b[0m",
      "\u001b[0;31mIndexError\u001b[0m                                Traceback (most recent call last)",
      "Input \u001b[0;32mIn [24]\u001b[0m, in \u001b[0;36m<cell line: 4>\u001b[0;34m()\u001b[0m\n\u001b[1;32m      4\u001b[0m \u001b[38;5;28;01mfor\u001b[39;00m video_dataset \u001b[38;5;129;01min\u001b[39;00m videos_dataset:\n\u001b[1;32m      5\u001b[0m     video_dataset_dir \u001b[38;5;241m=\u001b[39m os\u001b[38;5;241m.\u001b[39mpath\u001b[38;5;241m.\u001b[39mjoin(\u001b[38;5;124m'\u001b[39m\u001b[38;5;124m/home/debonair/.torch/datasets/UCF101/UCF101/\u001b[39m\u001b[38;5;124m'\u001b[39m, video_dataset)\n\u001b[0;32m----> 6\u001b[0m     sample_dataset \u001b[38;5;241m=\u001b[39m \u001b[38;5;28;43mstr\u001b[39;49m\u001b[43m(\u001b[49m\u001b[43mvideo_dataset\u001b[49m\u001b[43m)\u001b[49m\u001b[38;5;241;43m.\u001b[39;49m\u001b[43msplit\u001b[49m\u001b[43m(\u001b[49m\u001b[43msep\u001b[49m\u001b[43m \u001b[49m\u001b[38;5;241;43m=\u001b[39;49m\u001b[43m \u001b[49m\u001b[38;5;124;43m'\u001b[39;49m\u001b[38;5;124;43m_\u001b[39;49m\u001b[38;5;124;43m'\u001b[39;49m\u001b[43m)\u001b[49m\u001b[43m[\u001b[49m\u001b[38;5;241;43m1\u001b[39;49m\u001b[43m]\u001b[49m\n\u001b[1;32m      8\u001b[0m     \u001b[38;5;28;01mif\u001b[39;00m sample_dataset \u001b[38;5;241m==\u001b[39m \u001b[38;5;124m'\u001b[39m\u001b[38;5;124mHorseRace\u001b[39m\u001b[38;5;124m'\u001b[39m:\n\u001b[1;32m      9\u001b[0m         \u001b[38;5;28mprint\u001b[39m(\u001b[38;5;124mf\u001b[39m\u001b[38;5;124m'\u001b[39m\u001b[38;5;124mfound one sample of HorseRace\u001b[39m\u001b[38;5;132;01m{\u001b[39;00mvideo_dataset\u001b[38;5;132;01m}\u001b[39;00m\u001b[38;5;124m'\u001b[39m)\n",
      "\u001b[0;31mIndexError\u001b[0m: list index out of range"
     ]
    }
   ],
   "source": [
    "videos_dataset = os.listdir('/home/debonair/.torch/datasets/UCF101/UCF101/')\n",
    "\n",
    "#Loop in the videos dataset and select one class of video dataset.\n",
    "for video_dataset in videos_dataset:\n",
    "    video_dataset_dir = os.path.join('/home/debonair/.torch/datasets/UCF101/UCF101/', video_dataset)\n",
    "    sample_dataset = str(video_dataset).split(sep = '_')[1]\n",
    "\n",
    "    if sample_dataset == 'HorseRace':\n",
    "        print(f'found one sample of HorseRace{video_dataset}')\n",
    "\n",
    "        #Copy the sample dataset to the current directory.\n",
    "        shutil.copy(src=video_dataset_dir, dst = 'inputs/HorseRace/')"
   ]
  },
  {
   "cell_type": "code",
   "execution_count": 33,
   "id": "aefc4360-5813-491f-8c02-055e9bd7a9f2",
   "metadata": {},
   "outputs": [
    {
     "data": {
      "text/plain": [
       "dict_values([['v_HorseRace_g07_c02.avi', 'v_HorseRace_g11_c04.avi', 'v_HorseRace_g10_c03.avi', 'v_HorseRace_g22_c02.avi', 'v_HorseRace_g18_c06.avi', 'v_HorseRace_g24_c02.avi', 'v_HorseRace_g17_c02.avi', 'v_HorseRace_g04_c03.avi', 'v_HorseRace_g24_c04.avi', 'v_HorseRace_g06_c05.avi', 'v_HorseRace_g03_c02.avi', 'v_HorseRace_g09_c03.avi', 'v_HorseRace_g16_c03.avi', 'v_HorseRace_g14_c03.avi', 'v_HorseRace_g13_c05.avi', 'v_HorseRace_g02_c01.avi', 'v_HorseRace_g24_c07.avi', 'v_HorseRace_g12_c04.avi', 'v_HorseRace_g21_c05.avi', 'v_HorseRace_g13_c01.avi', 'v_HorseRace_g07_c05.avi', 'v_HorseRace_g20_c01.avi', 'v_HorseRace_g15_c02.avi', 'v_HorseRace_g17_c05.avi', 'v_HorseRace_g20_c05.avi', 'v_HorseRace_g18_c01.avi', 'v_HorseRace_g22_c04.avi', 'v_HorseRace_g23_c05.avi', 'v_HorseRace_g20_c02.avi', 'v_HorseRace_g19_c03.avi', 'v_HorseRace_g19_c06.avi', 'v_HorseRace_g10_c01.avi', 'v_HorseRace_g08_c05.avi', 'v_HorseRace_g06_c01.avi', 'v_HorseRace_g25_c03.avi', 'v_HorseRace_g24_c01.avi', 'v_HorseRace_g22_c01.avi', 'v_HorseRace_g07_c06.avi', 'v_HorseRace_g08_c01.avi', 'v_HorseRace_g20_c04.avi', 'v_HorseRace_g19_c05.avi', 'v_HorseRace_g14_c01.avi', 'v_HorseRace_g11_c05.avi', 'v_HorseRace_g18_c05.avi', 'v_HorseRace_g08_c04.avi', 'v_HorseRace_g05_c03.avi', 'v_HorseRace_g13_c02.avi', 'v_HorseRace_g17_c03.avi', 'v_HorseRace_g10_c02.avi', 'v_HorseRace_g02_c02.avi', 'v_HorseRace_g08_c02.avi', 'v_HorseRace_g18_c03.avi', 'v_HorseRace_g11_c07.avi', 'v_HorseRace_g02_c04.avi']])"
      ]
     },
     "execution_count": 33,
     "metadata": {},
     "output_type": "execute_result"
    }
   ],
   "source": [
    "horse_dataset_dict.values()"
   ]
  },
  {
   "cell_type": "code",
   "execution_count": 35,
   "id": "d5dfeca3-5c22-45d1-bd20-c8d3c332ad6e",
   "metadata": {},
   "outputs": [],
   "source": [
    "horses_dataset = os.listdir('inputs/HorseRace/')\n",
    "\n",
    "#Create a dataframe from the list below.\n",
    "horse_dataset_dict = {'horses_dir': horses_dataset}\n",
    "horse_dataset_df = pd.DataFrame(horse_dataset_dict, index = list(range(len(horses_dataset))))\n",
    "horse_dataset_df.to_csv('inputs/horses.csv', index = False)"
   ]
  },
  {
   "cell_type": "code",
   "execution_count": 1,
   "id": "af79bd24-3b99-4a09-9832-7c593cb97cf0",
   "metadata": {},
   "outputs": [],
   "source": [
    "import torch\n",
    "import torchvision\n",
    "from torchvision import datasets"
   ]
  },
  {
   "cell_type": "code",
   "execution_count": 2,
   "id": "cd46bba6-e23d-43d4-a994-c6487b3dab34",
   "metadata": {},
   "outputs": [
    {
     "data": {
      "application/vnd.jupyter.widget-view+json": {
       "model_id": "80c89fe667554d399f6edaef2a21ec36",
       "version_major": 2,
       "version_minor": 0
      },
      "text/plain": [
       "  0%|          | 0/833 [00:00<?, ?it/s]"
      ]
     },
     "metadata": {},
     "output_type": "display_data"
    }
   ],
   "source": [
    "dataset = datasets.UCF101(root = '/home/debonair/.torch/datasets/UCF101',\n",
    "                          annotation_path = '/home/debonair/.torch/datasets/UCF101/UCF101/ucfTrainTestlist/',\n",
    "                          frames_per_clip = 5, \n",
    "                          step_between_clips = 2, \n",
    "                          train = False,\n",
    "                          num_workers = 7, \n",
    "                          output_format = 'TCHW')"
   ]
  },
  {
   "cell_type": "markdown",
   "id": "1b89e0cf-9a0c-459a-b892-012e76d4763f",
   "metadata": {},
   "source": [
    "### Each item in our dataset is a tuple in the form `(Time, Channel, Height, Width)`"
   ]
  },
  {
   "cell_type": "code",
   "execution_count": 3,
   "id": "c51871f1-fb03-42f2-a369-20baa36f08f0",
   "metadata": {},
   "outputs": [
    {
     "ename": "IndexError",
     "evalue": "list index out of range",
     "output_type": "error",
     "traceback": [
      "\u001b[0;31m---------------------------------------------------------------------------\u001b[0m",
      "\u001b[0;31mIndexError\u001b[0m                                Traceback (most recent call last)",
      "Input \u001b[0;32mIn [3]\u001b[0m, in \u001b[0;36m<cell line: 1>\u001b[0;34m()\u001b[0m\n\u001b[0;32m----> 1\u001b[0m data_loader \u001b[38;5;241m=\u001b[39m \u001b[43mtorch\u001b[49m\u001b[38;5;241;43m.\u001b[39;49m\u001b[43mutils\u001b[49m\u001b[38;5;241;43m.\u001b[39;49m\u001b[43mdata\u001b[49m\u001b[38;5;241;43m.\u001b[39;49m\u001b[43mDataLoader\u001b[49m\u001b[43m(\u001b[49m\u001b[43mdataset\u001b[49m\u001b[43m,\u001b[49m\u001b[43m \u001b[49m\n\u001b[1;32m      2\u001b[0m \u001b[43m                                          \u001b[49m\u001b[43mbatch_size\u001b[49m\u001b[43m \u001b[49m\u001b[38;5;241;43m=\u001b[39;49m\u001b[43m \u001b[49m\u001b[38;5;241;43m2\u001b[39;49m\u001b[43m,\u001b[49m\u001b[43m \u001b[49m\n\u001b[1;32m      3\u001b[0m \u001b[43m                                          \u001b[49m\u001b[43mshuffle\u001b[49m\u001b[43m \u001b[49m\u001b[38;5;241;43m=\u001b[39;49m\u001b[43m \u001b[49m\u001b[38;5;28;43;01mTrue\u001b[39;49;00m\u001b[43m)\u001b[49m\n",
      "File \u001b[0;32m~/anaconda3/lib/python3.9/site-packages/torch/utils/data/dataloader.py:353\u001b[0m, in \u001b[0;36mDataLoader.__init__\u001b[0;34m(self, dataset, batch_size, shuffle, sampler, batch_sampler, num_workers, collate_fn, pin_memory, drop_last, timeout, worker_init_fn, multiprocessing_context, generator, prefetch_factor, persistent_workers, pin_memory_device)\u001b[0m\n\u001b[1;32m    351\u001b[0m \u001b[38;5;28;01melse\u001b[39;00m:  \u001b[38;5;66;03m# map-style\u001b[39;00m\n\u001b[1;32m    352\u001b[0m     \u001b[38;5;28;01mif\u001b[39;00m shuffle:\n\u001b[0;32m--> 353\u001b[0m         sampler \u001b[38;5;241m=\u001b[39m \u001b[43mRandomSampler\u001b[49m\u001b[43m(\u001b[49m\u001b[43mdataset\u001b[49m\u001b[43m,\u001b[49m\u001b[43m \u001b[49m\u001b[43mgenerator\u001b[49m\u001b[38;5;241;43m=\u001b[39;49m\u001b[43mgenerator\u001b[49m\u001b[43m)\u001b[49m  \u001b[38;5;66;03m# type: ignore[arg-type]\u001b[39;00m\n\u001b[1;32m    354\u001b[0m     \u001b[38;5;28;01melse\u001b[39;00m:\n\u001b[1;32m    355\u001b[0m         sampler \u001b[38;5;241m=\u001b[39m SequentialSampler(dataset)  \u001b[38;5;66;03m# type: ignore[arg-type]\u001b[39;00m\n",
      "File \u001b[0;32m~/anaconda3/lib/python3.9/site-packages/torch/utils/data/sampler.py:106\u001b[0m, in \u001b[0;36mRandomSampler.__init__\u001b[0;34m(self, data_source, replacement, num_samples, generator)\u001b[0m\n\u001b[1;32m    102\u001b[0m \u001b[38;5;28;01mif\u001b[39;00m \u001b[38;5;129;01mnot\u001b[39;00m \u001b[38;5;28misinstance\u001b[39m(\u001b[38;5;28mself\u001b[39m\u001b[38;5;241m.\u001b[39mreplacement, \u001b[38;5;28mbool\u001b[39m):\n\u001b[1;32m    103\u001b[0m     \u001b[38;5;28;01mraise\u001b[39;00m \u001b[38;5;167;01mTypeError\u001b[39;00m(\u001b[38;5;124m\"\u001b[39m\u001b[38;5;124mreplacement should be a boolean value, but got \u001b[39m\u001b[38;5;124m\"\u001b[39m\n\u001b[1;32m    104\u001b[0m                     \u001b[38;5;124m\"\u001b[39m\u001b[38;5;124mreplacement=\u001b[39m\u001b[38;5;132;01m{}\u001b[39;00m\u001b[38;5;124m\"\u001b[39m\u001b[38;5;241m.\u001b[39mformat(\u001b[38;5;28mself\u001b[39m\u001b[38;5;241m.\u001b[39mreplacement))\n\u001b[0;32m--> 106\u001b[0m \u001b[38;5;28;01mif\u001b[39;00m \u001b[38;5;129;01mnot\u001b[39;00m \u001b[38;5;28misinstance\u001b[39m(\u001b[38;5;28;43mself\u001b[39;49m\u001b[38;5;241;43m.\u001b[39;49m\u001b[43mnum_samples\u001b[49m, \u001b[38;5;28mint\u001b[39m) \u001b[38;5;129;01mor\u001b[39;00m \u001b[38;5;28mself\u001b[39m\u001b[38;5;241m.\u001b[39mnum_samples \u001b[38;5;241m<\u001b[39m\u001b[38;5;241m=\u001b[39m \u001b[38;5;241m0\u001b[39m:\n\u001b[1;32m    107\u001b[0m     \u001b[38;5;28;01mraise\u001b[39;00m \u001b[38;5;167;01mValueError\u001b[39;00m(\u001b[38;5;124m\"\u001b[39m\u001b[38;5;124mnum_samples should be a positive integer \u001b[39m\u001b[38;5;124m\"\u001b[39m\n\u001b[1;32m    108\u001b[0m                      \u001b[38;5;124m\"\u001b[39m\u001b[38;5;124mvalue, but got num_samples=\u001b[39m\u001b[38;5;132;01m{}\u001b[39;00m\u001b[38;5;124m\"\u001b[39m\u001b[38;5;241m.\u001b[39mformat(\u001b[38;5;28mself\u001b[39m\u001b[38;5;241m.\u001b[39mnum_samples))\n",
      "File \u001b[0;32m~/anaconda3/lib/python3.9/site-packages/torch/utils/data/sampler.py:114\u001b[0m, in \u001b[0;36mRandomSampler.num_samples\u001b[0;34m(self)\u001b[0m\n\u001b[1;32m    110\u001b[0m \u001b[38;5;129m@property\u001b[39m\n\u001b[1;32m    111\u001b[0m \u001b[38;5;28;01mdef\u001b[39;00m \u001b[38;5;21mnum_samples\u001b[39m(\u001b[38;5;28mself\u001b[39m) \u001b[38;5;241m-\u001b[39m\u001b[38;5;241m>\u001b[39m \u001b[38;5;28mint\u001b[39m:\n\u001b[1;32m    112\u001b[0m     \u001b[38;5;66;03m# dataset size might change at runtime\u001b[39;00m\n\u001b[1;32m    113\u001b[0m     \u001b[38;5;28;01mif\u001b[39;00m \u001b[38;5;28mself\u001b[39m\u001b[38;5;241m.\u001b[39m_num_samples \u001b[38;5;129;01mis\u001b[39;00m \u001b[38;5;28;01mNone\u001b[39;00m:\n\u001b[0;32m--> 114\u001b[0m         \u001b[38;5;28;01mreturn\u001b[39;00m \u001b[38;5;28;43mlen\u001b[39;49m\u001b[43m(\u001b[49m\u001b[38;5;28;43mself\u001b[39;49m\u001b[38;5;241;43m.\u001b[39;49m\u001b[43mdata_source\u001b[49m\u001b[43m)\u001b[49m\n\u001b[1;32m    115\u001b[0m     \u001b[38;5;28;01mreturn\u001b[39;00m \u001b[38;5;28mself\u001b[39m\u001b[38;5;241m.\u001b[39m_num_samples\n",
      "File \u001b[0;32m~/anaconda3/lib/python3.9/site-packages/torchvision/datasets/ucf101.py:121\u001b[0m, in \u001b[0;36mUCF101.__len__\u001b[0;34m(self)\u001b[0m\n\u001b[1;32m    120\u001b[0m \u001b[38;5;28;01mdef\u001b[39;00m \u001b[38;5;21m__len__\u001b[39m(\u001b[38;5;28mself\u001b[39m) \u001b[38;5;241m-\u001b[39m\u001b[38;5;241m>\u001b[39m \u001b[38;5;28mint\u001b[39m:\n\u001b[0;32m--> 121\u001b[0m     \u001b[38;5;28;01mreturn\u001b[39;00m \u001b[38;5;28;43mself\u001b[39;49m\u001b[38;5;241;43m.\u001b[39;49m\u001b[43mvideo_clips\u001b[49m\u001b[38;5;241;43m.\u001b[39;49m\u001b[43mnum_clips\u001b[49m\u001b[43m(\u001b[49m\u001b[43m)\u001b[49m\n",
      "File \u001b[0;32m~/anaconda3/lib/python3.9/site-packages/torchvision/datasets/video_utils.py:267\u001b[0m, in \u001b[0;36mVideoClips.num_clips\u001b[0;34m(self)\u001b[0m\n\u001b[1;32m    263\u001b[0m \u001b[38;5;28;01mdef\u001b[39;00m \u001b[38;5;21mnum_clips\u001b[39m(\u001b[38;5;28mself\u001b[39m) \u001b[38;5;241m-\u001b[39m\u001b[38;5;241m>\u001b[39m \u001b[38;5;28mint\u001b[39m:\n\u001b[1;32m    264\u001b[0m     \u001b[38;5;124;03m\"\"\"\u001b[39;00m\n\u001b[1;32m    265\u001b[0m \u001b[38;5;124;03m    Number of subclips that are available in the video list.\u001b[39;00m\n\u001b[1;32m    266\u001b[0m \u001b[38;5;124;03m    \"\"\"\u001b[39;00m\n\u001b[0;32m--> 267\u001b[0m     \u001b[38;5;28;01mreturn\u001b[39;00m \u001b[38;5;28;43mself\u001b[39;49m\u001b[38;5;241;43m.\u001b[39;49m\u001b[43mcumulative_sizes\u001b[49m\u001b[43m[\u001b[49m\u001b[38;5;241;43m-\u001b[39;49m\u001b[38;5;241;43m1\u001b[39;49m\u001b[43m]\u001b[49m\n",
      "\u001b[0;31mIndexError\u001b[0m: list index out of range"
     ]
    }
   ],
   "source": [
    "data_loader = torch.utils.data.DataLoader(dataset, \n",
    "                                          batch_size = 2, \n",
    "                                          shuffle = True)"
   ]
  },
  {
   "cell_type": "code",
   "execution_count": 4,
   "id": "91f8c35c-e245-45e8-b5cb-e41c48d5a8fa",
   "metadata": {},
   "outputs": [
    {
     "ename": "IndexError",
     "evalue": "list index out of range",
     "output_type": "error",
     "traceback": [
      "\u001b[0;31m---------------------------------------------------------------------------\u001b[0m",
      "\u001b[0;31mIndexError\u001b[0m                                Traceback (most recent call last)",
      "Input \u001b[0;32mIn [4]\u001b[0m, in \u001b[0;36m<cell line: 3>\u001b[0;34m()\u001b[0m\n\u001b[1;32m      1\u001b[0m \u001b[38;5;66;03m#Pick datapoint 5 to see an example of the data.\u001b[39;00m\n\u001b[1;32m      2\u001b[0m n \u001b[38;5;241m=\u001b[39m \u001b[38;5;241m5\u001b[39m\n\u001b[0;32m----> 3\u001b[0m sample_dataset \u001b[38;5;241m=\u001b[39m \u001b[43mdataset\u001b[49m\u001b[43m[\u001b[49m\u001b[43mn\u001b[49m\u001b[43m]\u001b[49m\n",
      "File \u001b[0;32m~/anaconda3/lib/python3.9/site-packages/torchvision/datasets/ucf101.py:124\u001b[0m, in \u001b[0;36mUCF101.__getitem__\u001b[0;34m(self, idx)\u001b[0m\n\u001b[1;32m    123\u001b[0m \u001b[38;5;28;01mdef\u001b[39;00m \u001b[38;5;21m__getitem__\u001b[39m(\u001b[38;5;28mself\u001b[39m, idx: \u001b[38;5;28mint\u001b[39m) \u001b[38;5;241m-\u001b[39m\u001b[38;5;241m>\u001b[39m Tuple[Tensor, Tensor, \u001b[38;5;28mint\u001b[39m]:\n\u001b[0;32m--> 124\u001b[0m     video, audio, info, video_idx \u001b[38;5;241m=\u001b[39m \u001b[38;5;28;43mself\u001b[39;49m\u001b[38;5;241;43m.\u001b[39;49m\u001b[43mvideo_clips\u001b[49m\u001b[38;5;241;43m.\u001b[39;49m\u001b[43mget_clip\u001b[49m\u001b[43m(\u001b[49m\u001b[43midx\u001b[49m\u001b[43m)\u001b[49m\n\u001b[1;32m    125\u001b[0m     label \u001b[38;5;241m=\u001b[39m \u001b[38;5;28mself\u001b[39m\u001b[38;5;241m.\u001b[39msamples[\u001b[38;5;28mself\u001b[39m\u001b[38;5;241m.\u001b[39mindices[video_idx]][\u001b[38;5;241m1\u001b[39m]\n\u001b[1;32m    127\u001b[0m     \u001b[38;5;28;01mif\u001b[39;00m \u001b[38;5;28mself\u001b[39m\u001b[38;5;241m.\u001b[39mtransform \u001b[38;5;129;01mis\u001b[39;00m \u001b[38;5;129;01mnot\u001b[39;00m \u001b[38;5;28;01mNone\u001b[39;00m:\n",
      "File \u001b[0;32m~/anaconda3/lib/python3.9/site-packages/torchvision/datasets/video_utils.py:306\u001b[0m, in \u001b[0;36mVideoClips.get_clip\u001b[0;34m(self, idx)\u001b[0m\n\u001b[1;32m    293\u001b[0m \u001b[38;5;28;01mdef\u001b[39;00m \u001b[38;5;21mget_clip\u001b[39m(\u001b[38;5;28mself\u001b[39m, idx: \u001b[38;5;28mint\u001b[39m) \u001b[38;5;241m-\u001b[39m\u001b[38;5;241m>\u001b[39m Tuple[torch\u001b[38;5;241m.\u001b[39mTensor, torch\u001b[38;5;241m.\u001b[39mTensor, Dict[\u001b[38;5;28mstr\u001b[39m, Any], \u001b[38;5;28mint\u001b[39m]:\n\u001b[1;32m    294\u001b[0m     \u001b[38;5;124;03m\"\"\"\u001b[39;00m\n\u001b[1;32m    295\u001b[0m \u001b[38;5;124;03m    Gets a subclip from a list of videos.\u001b[39;00m\n\u001b[1;32m    296\u001b[0m \n\u001b[0;32m   (...)\u001b[0m\n\u001b[1;32m    304\u001b[0m \u001b[38;5;124;03m        video_idx (int): index of the video in `video_paths`\u001b[39;00m\n\u001b[1;32m    305\u001b[0m \u001b[38;5;124;03m    \"\"\"\u001b[39;00m\n\u001b[0;32m--> 306\u001b[0m     \u001b[38;5;28;01mif\u001b[39;00m idx \u001b[38;5;241m>\u001b[39m\u001b[38;5;241m=\u001b[39m \u001b[38;5;28;43mself\u001b[39;49m\u001b[38;5;241;43m.\u001b[39;49m\u001b[43mnum_clips\u001b[49m\u001b[43m(\u001b[49m\u001b[43m)\u001b[49m:\n\u001b[1;32m    307\u001b[0m         \u001b[38;5;28;01mraise\u001b[39;00m \u001b[38;5;167;01mIndexError\u001b[39;00m(\u001b[38;5;124mf\u001b[39m\u001b[38;5;124m\"\u001b[39m\u001b[38;5;124mIndex \u001b[39m\u001b[38;5;132;01m{\u001b[39;00midx\u001b[38;5;132;01m}\u001b[39;00m\u001b[38;5;124m out of range (\u001b[39m\u001b[38;5;132;01m{\u001b[39;00m\u001b[38;5;28mself\u001b[39m\u001b[38;5;241m.\u001b[39mnum_clips()\u001b[38;5;132;01m}\u001b[39;00m\u001b[38;5;124m number of clips)\u001b[39m\u001b[38;5;124m\"\u001b[39m)\n\u001b[1;32m    308\u001b[0m     video_idx, clip_idx \u001b[38;5;241m=\u001b[39m \u001b[38;5;28mself\u001b[39m\u001b[38;5;241m.\u001b[39mget_clip_location(idx)\n",
      "File \u001b[0;32m~/anaconda3/lib/python3.9/site-packages/torchvision/datasets/video_utils.py:267\u001b[0m, in \u001b[0;36mVideoClips.num_clips\u001b[0;34m(self)\u001b[0m\n\u001b[1;32m    263\u001b[0m \u001b[38;5;28;01mdef\u001b[39;00m \u001b[38;5;21mnum_clips\u001b[39m(\u001b[38;5;28mself\u001b[39m) \u001b[38;5;241m-\u001b[39m\u001b[38;5;241m>\u001b[39m \u001b[38;5;28mint\u001b[39m:\n\u001b[1;32m    264\u001b[0m     \u001b[38;5;124;03m\"\"\"\u001b[39;00m\n\u001b[1;32m    265\u001b[0m \u001b[38;5;124;03m    Number of subclips that are available in the video list.\u001b[39;00m\n\u001b[1;32m    266\u001b[0m \u001b[38;5;124;03m    \"\"\"\u001b[39;00m\n\u001b[0;32m--> 267\u001b[0m     \u001b[38;5;28;01mreturn\u001b[39;00m \u001b[38;5;28;43mself\u001b[39;49m\u001b[38;5;241;43m.\u001b[39;49m\u001b[43mcumulative_sizes\u001b[49m\u001b[43m[\u001b[49m\u001b[38;5;241;43m-\u001b[39;49m\u001b[38;5;241;43m1\u001b[39;49m\u001b[43m]\u001b[49m\n",
      "\u001b[0;31mIndexError\u001b[0m: list index out of range"
     ]
    }
   ],
   "source": [
    "#Pick datapoint 5 to see an example of the data.\n",
    "n = 5\n",
    "sample_dataset = dataset[n]"
   ]
  },
  {
   "cell_type": "code",
   "execution_count": 10,
   "id": "dafb6653-374d-48a4-ba1c-183d7e7c9b86",
   "metadata": {
    "scrolled": true,
    "tags": []
   },
   "outputs": [
    {
     "data": {
      "text/plain": [
       "dict_keys(['video_paths', 'video_pts', 'video_fps'])"
      ]
     },
     "execution_count": 10,
     "metadata": {},
     "output_type": "execute_result"
    }
   ],
   "source": [
    "dataset.metadata.keys()"
   ]
  },
  {
   "cell_type": "code",
   "execution_count": 17,
   "id": "ab2113bf-2070-4fcc-9cd1-84f4e0761d10",
   "metadata": {},
   "outputs": [
    {
     "data": {
      "text/plain": [
       "('/home/debonair/.torch/datasets/UCF101/UCF101/v_ApplyEyeMakeup_g01_c01.avi',\n",
       " 0)"
      ]
     },
     "execution_count": 17,
     "metadata": {},
     "output_type": "execute_result"
    }
   ],
   "source": [
    "dataset."
   ]
  },
  {
   "cell_type": "code",
   "execution_count": null,
   "id": "ada1cbbf-22ca-4c1d-b529-1edcab6e1747",
   "metadata": {},
   "outputs": [],
   "source": []
  }
 ],
 "metadata": {
  "kernelspec": {
   "display_name": "Python 3 (ipykernel)",
   "language": "python",
   "name": "python3"
  },
  "language_info": {
   "codemirror_mode": {
    "name": "ipython",
    "version": 3
   },
   "file_extension": ".py",
   "mimetype": "text/x-python",
   "name": "python",
   "nbconvert_exporter": "python",
   "pygments_lexer": "ipython3",
   "version": "3.9.12"
  }
 },
 "nbformat": 4,
 "nbformat_minor": 5
}
