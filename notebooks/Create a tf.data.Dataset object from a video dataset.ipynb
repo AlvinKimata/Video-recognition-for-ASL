{
 "cells": [
  {
   "cell_type": "markdown",
   "id": "d0caf7fc-5538-48cf-aa40-aa8a87666fec",
   "metadata": {},
   "source": [
    "### This notebook demonstrates how to create a `tf.data` object from a video dataset.\n",
    "#### Split a sample video into a series of images composing the video and create a tf.data object."
   ]
  },
  {
   "cell_type": "code",
   "execution_count": 2,
   "id": "3689040c-4917-468c-a2f2-6d39e70ca48b",
   "metadata": {
    "tags": []
   },
   "outputs": [],
   "source": [
    "import os\n",
    "import cv2\n",
    "\n",
    "import tensorflow as tf"
   ]
  },
  {
   "cell_type": "code",
   "execution_count": 2,
   "id": "f6e694cc-6622-4baf-821e-b1e1e0b80b5e",
   "metadata": {},
   "outputs": [],
   "source": [
    "sample_video = 'inputs/videos_in_classes/activity/00886.mp4'"
   ]
  },
  {
   "cell_type": "code",
   "execution_count": 3,
   "id": "e22e35ca-624a-409a-ac84-090ac238d82e",
   "metadata": {},
   "outputs": [],
   "source": [
    "#Create a directory for the sequence of images in the sample video.\n",
    "video_dir = sample_video.split(sep = '/')[-1]\n",
    "video_dir = video_dir.split(sep = '.')[0]\n",
    "\n",
    "if not os.path.exists(f'video_frames_{video_dir}'):\n",
    "    os.mkdir(f'video_frames_{video_dir}')"
   ]
  },
  {
   "cell_type": "code",
   "execution_count": 4,
   "id": "fc6208fa-a946-4cb0-83b7-2bb6006d7d54",
   "metadata": {},
   "outputs": [
    {
     "name": "stdout",
     "output_type": "stream",
     "text": [
      "No frames detected\n"
     ]
    }
   ],
   "source": [
    "#Read the video with opencv.\n",
    "cap = cv2.VideoCapture(sample_video)\n",
    "DESIRED_FPS = 20 #20 frames per second.\n",
    "n = 0\n",
    "\n",
    "while True:\n",
    "    ret, frame = cap.read()\n",
    "    \n",
    "    if ret == False:\n",
    "        print('No frames detected')\n",
    "        break\n",
    "    \n",
    "    #Save the frames.\n",
    "    filename = f'video_frames_{video_dir}/{n}.png'\n",
    "    cv2.imwrite(filename, frame)\n",
    "    n += 1\n",
    "    \n",
    "    \n",
    "cap.release()    \n",
    "cv2.destroyAllWindows()    "
   ]
  },
  {
   "cell_type": "code",
   "execution_count": 5,
   "id": "27f07335-cb1a-46a5-baae-dd7f9054ffe6",
   "metadata": {},
   "outputs": [],
   "source": [
    "def load_video(path):\n",
    "    image = tf.io.read_file(path)\n",
    "    image = tf.image.decode_png(image, channels = 3)\n",
    "    image = tf.reshape(image, (256, 256, 3))\n",
    "    image = tf.cast(image, tf.float16)\n",
    "    return image"
   ]
  },
  {
   "cell_type": "code",
   "execution_count": 6,
   "id": "60da5130-dfbe-44b1-a42e-e912251c4689",
   "metadata": {},
   "outputs": [
    {
     "name": "stderr",
     "output_type": "stream",
     "text": [
      "2022-10-04 21:44:12.473791: W tensorflow/stream_executor/platform/default/dso_loader.cc:64] Could not load dynamic library 'libcuda.so.1'; dlerror: libcuda.so.1: cannot open shared object file: No such file or directory; LD_LIBRARY_PATH: /home/debonair/anaconda3/lib/python3.9/site-packages/cv2/../../lib64:\n",
      "2022-10-04 21:44:12.473865: W tensorflow/stream_executor/cuda/cuda_driver.cc:263] failed call to cuInit: UNKNOWN ERROR (303)\n",
      "2022-10-04 21:44:12.473938: I tensorflow/stream_executor/cuda/cuda_diagnostics.cc:156] kernel driver does not appear to be running on this host (debonair): /proc/driver/nvidia/version does not exist\n",
      "2022-10-04 21:44:12.475793: I tensorflow/core/platform/cpu_feature_guard.cc:193] This TensorFlow binary is optimized with oneAPI Deep Neural Network Library (oneDNN) to use the following CPU instructions in performance-critical operations:  AVX2 FMA\n",
      "To enable them in other operations, rebuild TensorFlow with the appropriate compiler flags.\n"
     ]
    },
    {
     "data": {
      "text/plain": [
       "TensorSpec(shape=(256, 256, 3), dtype=tf.float16, name=None)"
      ]
     },
     "execution_count": 6,
     "metadata": {},
     "output_type": "execute_result"
    }
   ],
   "source": [
    "dataset = tf.data.Dataset.from_tensors('video_frames_00886/').map(load_video)\n",
    "\n",
    "dataset.element_spec"
   ]
  },
  {
   "cell_type": "code",
   "execution_count": null,
   "id": "fceee31d-7c29-4636-90b4-2f69bc8734ce",
   "metadata": {},
   "outputs": [],
   "source": []
  }
 ],
 "metadata": {
  "kernelspec": {
   "display_name": "Python 3 (ipykernel)",
   "language": "python",
   "name": "python3"
  },
  "language_info": {
   "codemirror_mode": {
    "name": "ipython",
    "version": 3
   },
   "file_extension": ".py",
   "mimetype": "text/x-python",
   "name": "python",
   "nbconvert_exporter": "python",
   "pygments_lexer": "ipython3",
   "version": "3.9.12"
  }
 },
 "nbformat": 4,
 "nbformat_minor": 5
}
